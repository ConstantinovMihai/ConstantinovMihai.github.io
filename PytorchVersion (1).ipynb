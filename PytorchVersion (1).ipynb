{
 "cells": [
  {
   "cell_type": "markdown",
   "metadata": {
    "id": "_-90Fm4ey6yD"
   },
   "source": [
    "# Pytorch version of the implementation\n"
   ]
  },
  {
   "cell_type": "code",
   "execution_count": 5,
   "metadata": {},
   "outputs": [],
   "source": [
    "import torch\n",
    "import torch.nn as nn\n",
    "import torch.optim as optim\n",
    "from torch.utils.data import DataLoader, Subset\n",
    "import torchvision.transforms as transforms\n",
    "from torchvision.datasets import FashionMNIST\n",
    "from torchvision.models import efficientnet_v2_s\n",
    "from torch.optim import lr_scheduler\n",
    "\n",
    "# Define the transformation pipeline\n",
    "transform = transforms.Compose([\n",
    "    transforms.Resize(224), # resize the image to 224x224\n",
    "    transforms.Grayscale(num_output_channels=3), # convert the image to RGB format\n",
    "    transforms.ToTensor(), # convert the image to a PyTorch tensor\n",
    "])\n",
    "\n",
    "# Create the FashionMNIST datasets with the transformation applied\n",
    "train_dataset = FashionMNIST(root='./data', train=True, download=True, transform=transform)\n",
    "test_dataset = FashionMNIST(root='./data', train=False, download=True, transform=transform)\n",
    "\n",
    "idx = (train_dataset.targets == 3) | (train_dataset.targets == 4)\n",
    "train_dataset.data = train_dataset.data[idx]\n",
    "train_dataset.targets = train_dataset.targets[idx]\n",
    "\n",
    "\n",
    "idx = (test_dataset.targets == 3) | (test_dataset.targets == 4)\n",
    "test_dataset.data = test_dataset.data[idx]\n",
    "test_dataset.targets = test_dataset.targets[idx]\n",
    "\n",
    "\n",
    "N = 128\n",
    "bs = 32\n",
    "train_dataset = Subset(train_dataset, range(N))\n",
    "test_dataset = Subset(test_dataset, range(N))\n",
    "\n",
    "\n",
    "# Create data loaders\n",
    "train_loader = DataLoader(train_dataset, batch_size=bs, shuffle=False)\n",
    "test_loader = DataLoader(test_dataset, batch_size=bs, shuffle=False)\n",
    "\n",
    "# Define the EfficientNet_V2_S model\n",
    "model = efficientnet_v2_s(pretrained=True)\n",
    "\n",
    "# Define the loss function\n",
    "criterion = nn.CrossEntropyLoss()\n",
    "lr = 0.001\n",
    "# Define the optimizer\n",
    "optimizer = optim.Adam(model.parameters(), lr=lr, weight_decay=0)\n",
    "\n",
    "scheduler = lr_scheduler.StepLR(optimizer, step_size=30, gamma=0.1)\n",
    "\n",
    "# Train the model\n",
    "num_epochs = 10\n"
   ]
  },
  {
   "cell_type": "code",
   "execution_count": 6,
   "metadata": {
    "colab": {
     "base_uri": "https://localhost:8080/"
    },
    "id": "FIG7xRepZnyU",
    "outputId": "aeba48e0-419c-436e-fccf-d3b43d186c56"
   },
   "outputs": [
    {
     "name": "stdout",
     "output_type": "stream",
     "text": [
      "Epoch 1/10, Train Loss: 0.1633, Train Acc: 33.59%, Val Loss: 0.2387, Val Acc: 0.78%\n",
      "Epoch 2/10, Train Loss: 0.0173, Train Acc: 96.09%, Val Loss: 0.0804, Val Acc: 77.34%\n",
      "Epoch 3/10, Train Loss: 0.0026, Train Acc: 98.44%, Val Loss: 0.0316, Val Acc: 89.84%\n",
      "Epoch 4/10, Train Loss: 0.0008, Train Acc: 99.22%, Val Loss: 0.0341, Val Acc: 85.16%\n",
      "Epoch 5/10, Train Loss: 0.0006, Train Acc: 99.22%, Val Loss: 0.0438, Val Acc: 82.81%\n",
      "Epoch 6/10, Train Loss: 0.0040, Train Acc: 98.44%, Val Loss: 0.0354, Val Acc: 85.94%\n",
      "Epoch 7/10, Train Loss: 0.0022, Train Acc: 99.22%, Val Loss: 0.0201, Val Acc: 88.28%\n",
      "Epoch 8/10, Train Loss: 0.0005, Train Acc: 99.22%, Val Loss: 0.0141, Val Acc: 89.84%\n",
      "Epoch 9/10, Train Loss: 0.0003, Train Acc: 100.00%, Val Loss: 0.0110, Val Acc: 89.06%\n",
      "Epoch 10/10, Train Loss: 0.0001, Train Acc: 100.00%, Val Loss: 0.0107, Val Acc: 90.62%\n"
     ]
    }
   ],
   "source": [
    "\n",
    "for epoch in range(num_epochs):\n",
    "    model.train()\n",
    "    train_loss = 0.0\n",
    "    train_correct = 0.0\n",
    "\n",
    "\n",
    "    for batch_idx, (data, target) in enumerate(train_loader):\n",
    "        optimizer.zero_grad()\n",
    "        output = model(data)\n",
    "        loss = criterion(output, target)\n",
    "        loss.backward()\n",
    "  \n",
    "        optimizer.step()\n",
    "       \n",
    "        # Update statistics\n",
    "        train_loss += loss.item()\n",
    "        _, predicted = torch.max(output.data, 1)\n",
    "        train_correct += (predicted == target).sum().item()\n",
    "\n",
    "    # Calculate statistics for the validation set\n",
    "    model.eval()\n",
    "    val_loss = 0.0\n",
    "    val_correct = 0.0\n",
    "\n",
    "    with torch.no_grad():\n",
    "        for batch_idx, (data, target) in enumerate(test_loader):\n",
    "            output = model(data)\n",
    "            loss = criterion(output, target)\n",
    "            \n",
    "            # Update statistics\n",
    "            val_loss += loss.item()\n",
    "            _, predicted = torch.max(output.data, 1)\n",
    "            val_correct += (predicted == target).sum().item()\n",
    "\n",
    "    # Print the training and validation statistics for the epoch\n",
    "    train_loss /= len(train_loader.dataset)\n",
    "    train_acc = 100.0 * train_correct / len(train_loader.dataset)\n",
    "    val_loss /= len(test_loader.dataset)\n",
    "    val_acc = 100.0 * val_correct / len(test_loader.dataset)\n",
    "    \n",
    "    print(f'Epoch {epoch+1}/{num_epochs}, Train Loss: {train_loss:.4f}, Train Acc: {train_acc:.2f}%, Val Loss: {val_loss:.4f}, Val Acc: {val_acc:.2f}%')\n"
   ]
  },
  {
   "cell_type": "code",
   "execution_count": null,
   "metadata": {
    "id": "Ep_ZWlVRr6Aj"
   },
   "outputs": [],
   "source": []
  }
 ],
 "metadata": {
  "accelerator": "GPU",
  "colab": {
   "provenance": []
  },
  "gpuClass": "standard",
  "kernelspec": {
   "display_name": "Python 3 (ipykernel)",
   "language": "python",
   "name": "python3"
  },
  "language_info": {
   "codemirror_mode": {
    "name": "ipython",
    "version": 3
   },
   "file_extension": ".py",
   "mimetype": "text/x-python",
   "name": "python",
   "nbconvert_exporter": "python",
   "pygments_lexer": "ipython3",
   "version": "3.9.13"
  },
  "vscode": {
   "interpreter": {
    "hash": "c25269a4018224bb4e3cb6b79397037e31419b0dedc1b97e47175df2e08dbf7b"
   }
  }
 },
 "nbformat": 4,
 "nbformat_minor": 1
}
